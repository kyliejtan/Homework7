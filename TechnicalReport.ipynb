{
 "cells": [
  {
   "cell_type": "markdown",
   "metadata": {},
   "source": [
    "## Technical report for homework 7"
   ]
  },
  {
   "cell_type": "markdown",
   "metadata": {},
   "source": [
    "## Building table schemas"
   ]
  },
  {
   "cell_type": "markdown",
   "metadata": {},
   "source": [
    "The first step I took in completing this homework assignment was to create the schemas for the tables that would make up the assignment database. This consisted of creating a table for each of the provided .csv files in a pgAdmin 4 PostgreSQL query window and then saving all of the table schemas together in .sql file. I wanted the assignment database I created to mirror the way I think a similar database in the real world would be be structured with the goals of greatest performance and ease-of-use in mind. To me this means setting specific variables across the six tables as primary and foreign keys for each other so that uniqueness and referential integrity of the data held in this database can be preserved, and so that queries can be conducted as quickly as possible by referencing the relavant primary key."
   ]
  },
  {
   "cell_type": "markdown",
   "metadata": {},
   "source": [
    "## Creating an ERD to represent the database"
   ]
  },
  {
   "cell_type": "markdown",
   "metadata": {},
   "source": [
    "In order to create the Entity Relationship Diagram that would visually represent each of the componenets of the relational database for this assignment and their connections to one another, I used the web-based database diagraming service, http://www.quickdatabasediagrams.com, suggested in the assignment readme. Using this service, I created visual representations of each table schema I created in the first portion of this assign as well as visual representations of the relationships defined between certain tables by their primary and foreign keys. The lines representing these relationships include symbology that identify which table variables are primary keys and which are foreign keys."
   ]
  },
  {
   "cell_type": "markdown",
   "metadata": {},
   "source": [
    "## Carrying out queries"
   ]
  },
  {
   "cell_type": "markdown",
   "metadata": {},
   "source": [
    "The next portion of this assignment was to query the database I had constructed from the six .csv files with the queries listed in the assignment readme. Most of these queries requried two more tables to be joined together so that specific elements from the selected tables could be displayed together in the output of each query. "
   ]
  },
  {
   "cell_type": "markdown",
   "metadata": {},
   "source": [
    "## Bonus"
   ]
  },
  {
   "cell_type": "markdown",
   "metadata": {},
   "source": [
    "The bonus portion of this assignment required that the SQL database I had created in the earlier portion of this assignment be imported into a Jupyter notebook so that the average salary of each job title could displayed in a bar chart. I accomplished this by installing the psycopg2 module so that I could import it into the Jupyter notebook and us it as the PosgreSQL dialect DBAPI in the create engine url. After I created this engine, I used pd.read_sql to query the database with a string that would return the average salary for each job title. I created a bar chart with the results of this query, and based on the visual representation of the average salaries of each job title, and the numeric values of these same amounts displayed in the output of the query, I believe that the assertion in the homework readme that this data may be spurious is indeed true. The bar chart shows the job title Staff earning a higher average salary than Managers and Senior Engineers, engineers earning about the same average amount as senior engineers, and Staff earning about the same amount as Senior Staff. Additionally, the numeric outputs of the query list engineers making about $36 more than Senior Engineers. \n",
    "\n",
    "These findings are not consistent with what I would intuitively expect to find when comapring the average salaries of different job titles within a company. I would expect that base on hierarchy, Senior Engineers would earn a perceptible more than Engineers, and that the same would be the case between Staff and Senior Staff. It is these differences not being present in the graphic and numeric outputs of the bonus query that lead me to believe that this data is spurious. "
   ]
  },
  {
   "cell_type": "code",
   "execution_count": null,
   "metadata": {},
   "outputs": [],
   "source": []
  }
 ],
 "metadata": {
  "kernelspec": {
   "display_name": "Python 3",
   "language": "python",
   "name": "python3"
  },
  "language_info": {
   "codemirror_mode": {
    "name": "ipython",
    "version": 3
   },
   "file_extension": ".py",
   "mimetype": "text/x-python",
   "name": "python",
   "nbconvert_exporter": "python",
   "pygments_lexer": "ipython3",
   "version": "3.7.3"
  }
 },
 "nbformat": 4,
 "nbformat_minor": 2
}
